{
 "cells": [
  {
   "cell_type": "markdown",
   "metadata": {},
   "source": [
    "<img style=\"float: right;\" width=\"120\" src=\"https://s3.eu-west-1.amazonaws.com/neueda.conygre.com/pydata/images/neueda-logo.jpeg\">\n",
    "<br><br><br>"
   ]
  },
  {
   "cell_type": "markdown",
   "metadata": {},
   "source": [
    "# Overview\n",
    "\n",
    "The objective of this notebook is to demonstrate to a relatively novice python data scientist how easy it is to perform complex data analysis on market data.\n",
    "\n",
    "The piece of analysis that will be performed is:\n",
    "\n",
    "1.\tCorrelate the daily returns of PXD stock against the daily returns of a small basket of securities (SPY, Gold, Natural Gas and Oil)\n",
    "2.\tPerform a regression analysis of PXD against the basket\n",
    "3.\tExtend this to perform a regression analysis of an arbitrary security against the same basket\n",
    "4.\tExport the data to an excel spreadsheet.\n",
    "\n",
    "This analysis will touch on the following data science topics:\n",
    "- The pandas, numpy and matplotlib python packages\n",
    "- Importing data from csv files into a pandas DataFrame\n",
    "- The rows, columns and index of a DataFrame\n",
    "- Accessing data from a DataFrame along its rows and columns\n",
    "- Slicing Data\n",
    "- Time Series\n",
    "- Merging multiple DataFames into a single larger DataFrame\n",
    "- Exporting DataFames into an Excel spreadsheet\n",
    "\n",
    "\n",
    "Users will see how to execute the following operations:\n",
    "1.\tCalculate the daily returns of a security\n",
    "2.\tCorrelate the daily returns of securities\n",
    "3.\tPerform a linear regression analysis of data securities\n"
   ]
  },
  {
   "cell_type": "markdown",
   "metadata": {},
   "source": [
    "## Import the libraries\n",
    "\n",
    "To perform almost anything useful in a python program, the user/programmer/data scientist will need to use a pre-written bundle of python code, known as a python package.\n",
    "\n",
    "Users must `import` these packages into their python program.\n",
    "\n",
    "Importing packages into a python program is analogous to extending any piece of software by adding addons/apps to it. \n",
    "\n",
    "e.g.\n",
    "- using an  Excel Add-in\n",
    "- adding extensions to a chrome browser\n",
    "\n",
    "\n",
    "The most commonly used python packages are `pandas`, `numpy` and `matplotlib`, although there are literally hundreds of other packages in everyday use.\n",
    "\n",
    "**Aliases**<br>\n",
    "It is often the case that users will give a package an alias when it is imported. Users can decide on the names of any aliases they use, but the conventional aliases for the packages we will use are given below.\n",
    "\n",
    "**Magics**<br>\n",
    "The line %matploblib inline is a `python magic`.\n",
    "This magic forces the notebook to embed any graphs produced by matplotlib into this current notebook, rather than in a separate window."
   ]
  },
  {
   "cell_type": "code",
   "execution_count": 1,
   "metadata": {
    "tags": []
   },
   "outputs": [],
   "source": [
    "# Load in libraries - pandas, numpy, matplotlib are commonly used\n",
    "import pandas as pd\n",
    "import numpy as np\n",
    "import matplotlib.pyplot as plt"
   ]
  },
  {
   "cell_type": "markdown",
   "metadata": {},
   "source": [
    "## Load the data into a DataFrame\n",
    "\n",
    "Here I am using `pandas.read_excel(...)` to read in an excel spreadhseet into a pandas DataFrame called df_Basket\n",
    "\n",
    "`io`\n",
    "> the file being read in\n",
    "    \n",
    "`index_col`\n",
    "> the column of the csv file we want to use as the index of our DataFrame\n",
    "\n",
    "`parse_dates`\n",
    "> instruct the read_csv function to convert anything that looks like a date into a python date\n",
    "\n",
    "`sheet_name`\n",
    "> the name of the work sheet in the spreadsheet containing the data"
   ]
  },
  {
   "cell_type": "code",
   "execution_count": 2,
   "metadata": {},
   "outputs": [],
   "source": [
    "# Load in df_Basket\n",
    "df_Basket = pd.read_excel('https://s3.eu-west-1.amazonaws.com/neueda.conygre.com/pydata/regression.xlsx',\n",
    "                          index_col='Date',\n",
    "                          sheet_name='Basket')"
   ]
  },
  {
   "cell_type": "markdown",
   "metadata": {},
   "source": [
    "## Examine the Data\n",
    "\n",
    "Usually users will quickly inspect the data they have loaded in, to make sure they have imported it correctly. Inspecting the data is also extremely useful to get a mental image of the size and shape of the data that has been loaded in.\n",
    "\n",
    "Here are some of the most common operations "
   ]
  },
  {
   "cell_type": "code",
   "execution_count": 10,
   "metadata": {
    "tags": []
   },
   "outputs": [
    {
     "name": "stdout",
     "output_type": "stream",
     "text": [
      "<class 'pandas.core.frame.DataFrame'>\n",
      "DatetimeIndex: 644 entries, 2017-01-03 to 2019-08-19\n",
      "Data columns (total 4 columns):\n",
      " #   Column  Non-Null Count  Dtype  \n",
      "---  ------  --------------  -----  \n",
      " 0   SPY     644 non-null    float64\n",
      " 1   Oil     644 non-null    float64\n",
      " 2   Gold    644 non-null    float64\n",
      " 3   NG      644 non-null    float64\n",
      "dtypes: float64(4)\n",
      "memory usage: 25.2 KB\n"
     ]
    }
   ],
   "source": [
    "# try using the info() method\n",
    "df_Basket.info()"
   ]
  },
  {
   "cell_type": "code",
   "execution_count": 11,
   "metadata": {
    "tags": []
   },
   "outputs": [
    {
     "data": {
      "text/html": [
       "<div>\n",
       "<style scoped>\n",
       "    .dataframe tbody tr th:only-of-type {\n",
       "        vertical-align: middle;\n",
       "    }\n",
       "\n",
       "    .dataframe tbody tr th {\n",
       "        vertical-align: top;\n",
       "    }\n",
       "\n",
       "    .dataframe thead th {\n",
       "        text-align: right;\n",
       "    }\n",
       "</style>\n",
       "<table border=\"1\" class=\"dataframe\">\n",
       "  <thead>\n",
       "    <tr style=\"text-align: right;\">\n",
       "      <th></th>\n",
       "      <th>SPY</th>\n",
       "      <th>Oil</th>\n",
       "      <th>Gold</th>\n",
       "      <th>NG</th>\n",
       "    </tr>\n",
       "  </thead>\n",
       "  <tbody>\n",
       "    <tr>\n",
       "      <th>count</th>\n",
       "      <td>644.000000</td>\n",
       "      <td>644.000000</td>\n",
       "      <td>644.000000</td>\n",
       "      <td>644.000000</td>\n",
       "    </tr>\n",
       "    <tr>\n",
       "      <th>mean</th>\n",
       "      <td>259.270058</td>\n",
       "      <td>57.802019</td>\n",
       "      <td>1280.998292</td>\n",
       "      <td>2.964876</td>\n",
       "    </tr>\n",
       "    <tr>\n",
       "      <th>std</th>\n",
       "      <td>22.462847</td>\n",
       "      <td>8.116477</td>\n",
       "      <td>59.849990</td>\n",
       "      <td>0.461331</td>\n",
       "    </tr>\n",
       "    <tr>\n",
       "      <th>min</th>\n",
       "      <td>214.830276</td>\n",
       "      <td>42.480000</td>\n",
       "      <td>1148.650000</td>\n",
       "      <td>2.020000</td>\n",
       "    </tr>\n",
       "    <tr>\n",
       "      <th>25%</th>\n",
       "      <td>238.136368</td>\n",
       "      <td>51.420000</td>\n",
       "      <td>1237.462500</td>\n",
       "      <td>2.740000</td>\n",
       "    </tr>\n",
       "    <tr>\n",
       "      <th>50%</th>\n",
       "      <td>262.769989</td>\n",
       "      <td>56.780000</td>\n",
       "      <td>1279.950000</td>\n",
       "      <td>2.910000</td>\n",
       "    </tr>\n",
       "    <tr>\n",
       "      <th>75%</th>\n",
       "      <td>276.659904</td>\n",
       "      <td>64.317500</td>\n",
       "      <td>1313.437500</td>\n",
       "      <td>3.092500</td>\n",
       "    </tr>\n",
       "    <tr>\n",
       "      <th>max</th>\n",
       "      <td>302.010010</td>\n",
       "      <td>77.410000</td>\n",
       "      <td>1527.200000</td>\n",
       "      <td>6.240000</td>\n",
       "    </tr>\n",
       "  </tbody>\n",
       "</table>\n",
       "</div>"
      ],
      "text/plain": [
       "              SPY         Oil         Gold          NG\n",
       "count  644.000000  644.000000   644.000000  644.000000\n",
       "mean   259.270058   57.802019  1280.998292    2.964876\n",
       "std     22.462847    8.116477    59.849990    0.461331\n",
       "min    214.830276   42.480000  1148.650000    2.020000\n",
       "25%    238.136368   51.420000  1237.462500    2.740000\n",
       "50%    262.769989   56.780000  1279.950000    2.910000\n",
       "75%    276.659904   64.317500  1313.437500    3.092500\n",
       "max    302.010010   77.410000  1527.200000    6.240000"
      ]
     },
     "execution_count": 11,
     "metadata": {},
     "output_type": "execute_result"
    }
   ],
   "source": [
    "# Enter Some functions to get the size and shape if the data here\n",
    "# Try using describe() to get info about the data\n",
    "df_Basket.describe()"
   ]
  },
  {
   "cell_type": "markdown",
   "metadata": {},
   "source": [
    "## Correlation\n",
    "\n",
    "A pandas DataFrame has a `corr()` function that will produce a new DataFrame containing the correlation matrix.\n",
    "\n",
    "The correlation of prices for the basket DataFrame is:"
   ]
  },
  {
   "cell_type": "code",
   "execution_count": 12,
   "metadata": {
    "tags": []
   },
   "outputs": [
    {
     "data": {
      "text/html": [
       "<div>\n",
       "<style scoped>\n",
       "    .dataframe tbody tr th:only-of-type {\n",
       "        vertical-align: middle;\n",
       "    }\n",
       "\n",
       "    .dataframe tbody tr th {\n",
       "        vertical-align: top;\n",
       "    }\n",
       "\n",
       "    .dataframe thead th {\n",
       "        text-align: right;\n",
       "    }\n",
       "</style>\n",
       "<table border=\"1\" class=\"dataframe\">\n",
       "  <thead>\n",
       "    <tr style=\"text-align: right;\">\n",
       "      <th></th>\n",
       "      <th>SPY</th>\n",
       "      <th>Oil</th>\n",
       "      <th>Gold</th>\n",
       "      <th>NG</th>\n",
       "    </tr>\n",
       "  </thead>\n",
       "  <tbody>\n",
       "    <tr>\n",
       "      <th>SPY</th>\n",
       "      <td>1.000000</td>\n",
       "      <td>0.627966</td>\n",
       "      <td>0.411833</td>\n",
       "      <td>-0.225613</td>\n",
       "    </tr>\n",
       "    <tr>\n",
       "      <th>Oil</th>\n",
       "      <td>0.627966</td>\n",
       "      <td>1.000000</td>\n",
       "      <td>-0.024960</td>\n",
       "      <td>-0.073013</td>\n",
       "    </tr>\n",
       "    <tr>\n",
       "      <th>Gold</th>\n",
       "      <td>0.411833</td>\n",
       "      <td>-0.024960</td>\n",
       "      <td>1.000000</td>\n",
       "      <td>-0.441181</td>\n",
       "    </tr>\n",
       "    <tr>\n",
       "      <th>NG</th>\n",
       "      <td>-0.225613</td>\n",
       "      <td>-0.073013</td>\n",
       "      <td>-0.441181</td>\n",
       "      <td>1.000000</td>\n",
       "    </tr>\n",
       "  </tbody>\n",
       "</table>\n",
       "</div>"
      ],
      "text/plain": [
       "           SPY       Oil      Gold        NG\n",
       "SPY   1.000000  0.627966  0.411833 -0.225613\n",
       "Oil   0.627966  1.000000 -0.024960 -0.073013\n",
       "Gold  0.411833 -0.024960  1.000000 -0.441181\n",
       "NG   -0.225613 -0.073013 -0.441181  1.000000"
      ]
     },
     "execution_count": 12,
     "metadata": {},
     "output_type": "execute_result"
    }
   ],
   "source": [
    "# Correlate the basket here with the corr() method on a DataFrame\n",
    "df_Basket.corr()"
   ]
  },
  {
   "cell_type": "markdown",
   "metadata": {},
   "source": [
    "## Correlating PXD against the basket\n",
    "\n",
    "This is easy to achieve also\n",
    "\n",
    "- Read the PXD data into a DataFrame.\n",
    "- Calculate the percentage change for this data.\n",
    "- Concatenate this DataFrame to the basket and then produce a single correlation.\n",
    "\n",
    "As expected, the correlation between PXD performance and SPY is much stronger than with IBM and regular commodities"
   ]
  },
  {
   "cell_type": "code",
   "execution_count": 13,
   "metadata": {},
   "outputs": [],
   "source": [
    "# Load in the PXD data\n",
    "df_PXD = pd.read_excel('https://s3.eu-west-1.amazonaws.com/neueda.conygre.com/pydata/regression.xlsx',\n",
    "                       index_col='Date',\n",
    "                       sheet_name = 'PXD')"
   ]
  },
  {
   "cell_type": "code",
   "execution_count": 14,
   "metadata": {},
   "outputs": [
    {
     "data": {
      "text/html": [
       "<div>\n",
       "<style scoped>\n",
       "    .dataframe tbody tr th:only-of-type {\n",
       "        vertical-align: middle;\n",
       "    }\n",
       "\n",
       "    .dataframe tbody tr th {\n",
       "        vertical-align: top;\n",
       "    }\n",
       "\n",
       "    .dataframe thead th {\n",
       "        text-align: right;\n",
       "    }\n",
       "</style>\n",
       "<table border=\"1\" class=\"dataframe\">\n",
       "  <thead>\n",
       "    <tr style=\"text-align: right;\">\n",
       "      <th></th>\n",
       "      <th>PXD</th>\n",
       "    </tr>\n",
       "  </thead>\n",
       "  <tbody>\n",
       "    <tr>\n",
       "      <th>count</th>\n",
       "      <td>665.000000</td>\n",
       "    </tr>\n",
       "    <tr>\n",
       "      <th>mean</th>\n",
       "      <td>162.556656</td>\n",
       "    </tr>\n",
       "    <tr>\n",
       "      <th>std</th>\n",
       "      <td>20.312371</td>\n",
       "    </tr>\n",
       "    <tr>\n",
       "      <th>min</th>\n",
       "      <td>120.230003</td>\n",
       "    </tr>\n",
       "    <tr>\n",
       "      <th>25%</th>\n",
       "      <td>145.243454</td>\n",
       "    </tr>\n",
       "    <tr>\n",
       "      <th>50%</th>\n",
       "      <td>163.237183</td>\n",
       "    </tr>\n",
       "    <tr>\n",
       "      <th>75%</th>\n",
       "      <td>180.390472</td>\n",
       "    </tr>\n",
       "    <tr>\n",
       "      <th>max</th>\n",
       "      <td>211.653503</td>\n",
       "    </tr>\n",
       "  </tbody>\n",
       "</table>\n",
       "</div>"
      ],
      "text/plain": [
       "              PXD\n",
       "count  665.000000\n",
       "mean   162.556656\n",
       "std     20.312371\n",
       "min    120.230003\n",
       "25%    145.243454\n",
       "50%    163.237183\n",
       "75%    180.390472\n",
       "max    211.653503"
      ]
     },
     "execution_count": 14,
     "metadata": {},
     "output_type": "execute_result"
    }
   ],
   "source": [
    "df_PXD.describe()"
   ]
  },
  {
   "cell_type": "code",
   "execution_count": 23,
   "metadata": {},
   "outputs": [
    {
     "data": {
      "text/html": [
       "<div>\n",
       "<style scoped>\n",
       "    .dataframe tbody tr th:only-of-type {\n",
       "        vertical-align: middle;\n",
       "    }\n",
       "\n",
       "    .dataframe tbody tr th {\n",
       "        vertical-align: top;\n",
       "    }\n",
       "\n",
       "    .dataframe thead th {\n",
       "        text-align: right;\n",
       "    }\n",
       "</style>\n",
       "<table border=\"1\" class=\"dataframe\">\n",
       "  <thead>\n",
       "    <tr style=\"text-align: right;\">\n",
       "      <th></th>\n",
       "      <th>PXD</th>\n",
       "      <th>SPY</th>\n",
       "      <th>Oil</th>\n",
       "      <th>Gold</th>\n",
       "      <th>NG</th>\n",
       "    </tr>\n",
       "    <tr>\n",
       "      <th>Date</th>\n",
       "      <th></th>\n",
       "      <th></th>\n",
       "      <th></th>\n",
       "      <th></th>\n",
       "      <th></th>\n",
       "    </tr>\n",
       "  </thead>\n",
       "  <tbody>\n",
       "    <tr>\n",
       "      <th>2017-01-03</th>\n",
       "      <td>NaN</td>\n",
       "      <td>NaN</td>\n",
       "      <td>NaN</td>\n",
       "      <td>NaN</td>\n",
       "      <td>NaN</td>\n",
       "    </tr>\n",
       "    <tr>\n",
       "      <th>2017-01-04</th>\n",
       "      <td>-0.013022</td>\n",
       "      <td>0.005949</td>\n",
       "      <td>0.017189</td>\n",
       "      <td>0.015018</td>\n",
       "      <td>0.002933</td>\n",
       "    </tr>\n",
       "    <tr>\n",
       "      <th>2017-01-05</th>\n",
       "      <td>0.008307</td>\n",
       "      <td>-0.000794</td>\n",
       "      <td>0.009576</td>\n",
       "      <td>0.006133</td>\n",
       "      <td>0.000000</td>\n",
       "    </tr>\n",
       "    <tr>\n",
       "      <th>2017-01-06</th>\n",
       "      <td>-0.003393</td>\n",
       "      <td>0.003578</td>\n",
       "      <td>0.003906</td>\n",
       "      <td>0.004220</td>\n",
       "      <td>-0.011696</td>\n",
       "    </tr>\n",
       "    <tr>\n",
       "      <th>2017-01-09</th>\n",
       "      <td>-0.013346</td>\n",
       "      <td>-0.003301</td>\n",
       "      <td>-0.037607</td>\n",
       "      <td>-0.001613</td>\n",
       "      <td>-0.071006</td>\n",
       "    </tr>\n",
       "    <tr>\n",
       "      <th>...</th>\n",
       "      <td>...</td>\n",
       "      <td>...</td>\n",
       "      <td>...</td>\n",
       "      <td>...</td>\n",
       "      <td>...</td>\n",
       "    </tr>\n",
       "    <tr>\n",
       "      <th>2019-08-19</th>\n",
       "      <td>0.028970</td>\n",
       "      <td>0.012048</td>\n",
       "      <td>0.025716</td>\n",
       "      <td>-0.006428</td>\n",
       "      <td>0.027273</td>\n",
       "    </tr>\n",
       "    <tr>\n",
       "      <th>2019-08-20</th>\n",
       "      <td>-0.012635</td>\n",
       "      <td>NaN</td>\n",
       "      <td>NaN</td>\n",
       "      <td>NaN</td>\n",
       "      <td>NaN</td>\n",
       "    </tr>\n",
       "    <tr>\n",
       "      <th>2019-08-21</th>\n",
       "      <td>0.002686</td>\n",
       "      <td>NaN</td>\n",
       "      <td>NaN</td>\n",
       "      <td>NaN</td>\n",
       "      <td>NaN</td>\n",
       "    </tr>\n",
       "    <tr>\n",
       "      <th>2019-08-22</th>\n",
       "      <td>-0.006854</td>\n",
       "      <td>NaN</td>\n",
       "      <td>NaN</td>\n",
       "      <td>NaN</td>\n",
       "      <td>NaN</td>\n",
       "    </tr>\n",
       "    <tr>\n",
       "      <th>2019-08-23</th>\n",
       "      <td>-0.042992</td>\n",
       "      <td>NaN</td>\n",
       "      <td>NaN</td>\n",
       "      <td>NaN</td>\n",
       "      <td>NaN</td>\n",
       "    </tr>\n",
       "  </tbody>\n",
       "</table>\n",
       "<p>665 rows × 5 columns</p>\n",
       "</div>"
      ],
      "text/plain": [
       "                 PXD       SPY       Oil      Gold        NG\n",
       "Date                                                        \n",
       "2017-01-03       NaN       NaN       NaN       NaN       NaN\n",
       "2017-01-04 -0.013022  0.005949  0.017189  0.015018  0.002933\n",
       "2017-01-05  0.008307 -0.000794  0.009576  0.006133  0.000000\n",
       "2017-01-06 -0.003393  0.003578  0.003906  0.004220 -0.011696\n",
       "2017-01-09 -0.013346 -0.003301 -0.037607 -0.001613 -0.071006\n",
       "...              ...       ...       ...       ...       ...\n",
       "2019-08-19  0.028970  0.012048  0.025716 -0.006428  0.027273\n",
       "2019-08-20 -0.012635       NaN       NaN       NaN       NaN\n",
       "2019-08-21  0.002686       NaN       NaN       NaN       NaN\n",
       "2019-08-22 -0.006854       NaN       NaN       NaN       NaN\n",
       "2019-08-23 -0.042992       NaN       NaN       NaN       NaN\n",
       "\n",
       "[665 rows x 5 columns]"
      ]
     },
     "metadata": {},
     "output_type": "display_data"
    },
    {
     "data": {
      "text/html": [
       "<div>\n",
       "<style scoped>\n",
       "    .dataframe tbody tr th:only-of-type {\n",
       "        vertical-align: middle;\n",
       "    }\n",
       "\n",
       "    .dataframe tbody tr th {\n",
       "        vertical-align: top;\n",
       "    }\n",
       "\n",
       "    .dataframe thead th {\n",
       "        text-align: right;\n",
       "    }\n",
       "</style>\n",
       "<table border=\"1\" class=\"dataframe\">\n",
       "  <thead>\n",
       "    <tr style=\"text-align: right;\">\n",
       "      <th></th>\n",
       "      <th>PXD</th>\n",
       "      <th>SPY</th>\n",
       "      <th>Oil</th>\n",
       "      <th>Gold</th>\n",
       "      <th>NG</th>\n",
       "    </tr>\n",
       "  </thead>\n",
       "  <tbody>\n",
       "    <tr>\n",
       "      <th>PXD</th>\n",
       "      <td>1.000000</td>\n",
       "      <td>0.463130</td>\n",
       "      <td>0.494833</td>\n",
       "      <td>0.031324</td>\n",
       "      <td>0.018200</td>\n",
       "    </tr>\n",
       "    <tr>\n",
       "      <th>SPY</th>\n",
       "      <td>0.463130</td>\n",
       "      <td>1.000000</td>\n",
       "      <td>0.217715</td>\n",
       "      <td>0.013797</td>\n",
       "      <td>0.008208</td>\n",
       "    </tr>\n",
       "    <tr>\n",
       "      <th>Oil</th>\n",
       "      <td>0.494833</td>\n",
       "      <td>0.217715</td>\n",
       "      <td>1.000000</td>\n",
       "      <td>0.069057</td>\n",
       "      <td>0.023245</td>\n",
       "    </tr>\n",
       "    <tr>\n",
       "      <th>Gold</th>\n",
       "      <td>0.031324</td>\n",
       "      <td>0.013797</td>\n",
       "      <td>0.069057</td>\n",
       "      <td>1.000000</td>\n",
       "      <td>-0.043264</td>\n",
       "    </tr>\n",
       "    <tr>\n",
       "      <th>NG</th>\n",
       "      <td>0.018200</td>\n",
       "      <td>0.008208</td>\n",
       "      <td>0.023245</td>\n",
       "      <td>-0.043264</td>\n",
       "      <td>1.000000</td>\n",
       "    </tr>\n",
       "  </tbody>\n",
       "</table>\n",
       "</div>"
      ],
      "text/plain": [
       "           PXD       SPY       Oil      Gold        NG\n",
       "PXD   1.000000  0.463130  0.494833  0.031324  0.018200\n",
       "SPY   0.463130  1.000000  0.217715  0.013797  0.008208\n",
       "Oil   0.494833  0.217715  1.000000  0.069057  0.023245\n",
       "Gold  0.031324  0.013797  0.069057  1.000000 -0.043264\n",
       "NG    0.018200  0.008208  0.023245 -0.043264  1.000000"
      ]
     },
     "execution_count": 23,
     "metadata": {},
     "output_type": "execute_result"
    }
   ],
   "source": [
    "df_PXD_Returns = df_PXD.pct_change()\n",
    "df_Basket_Returns = df_Basket.pct_change()\n",
    "\n",
    "df_returns = pd.concat([df_PXD_Returns, df_Basket_Returns], axis=1)\n",
    "display(df_returns)\n",
    "df_returns.corr()"
   ]
  },
  {
   "cell_type": "code",
   "execution_count": null,
   "metadata": {},
   "outputs": [],
   "source": []
  },
  {
   "cell_type": "code",
   "execution_count": 15,
   "metadata": {},
   "outputs": [
    {
     "name": "stdout",
     "output_type": "stream",
     "text": [
      "<class 'pandas.core.frame.DataFrame'>\n",
      "DatetimeIndex: 665 entries, 2017-01-03 to 2019-08-23\n",
      "Data columns (total 1 columns):\n",
      " #   Column  Non-Null Count  Dtype  \n",
      "---  ------  --------------  -----  \n",
      " 0   PXD     665 non-null    float64\n",
      "dtypes: float64(1)\n",
      "memory usage: 10.4 KB\n"
     ]
    }
   ],
   "source": [
    "df_PXD.info()"
   ]
  },
  {
   "cell_type": "code",
   "execution_count": 17,
   "metadata": {
    "scrolled": true,
    "tags": []
   },
   "outputs": [
    {
     "data": {
      "text/plain": [
       "array([[<AxesSubplot:title={'center':'PXD'}>]], dtype=object)"
      ]
     },
     "execution_count": 17,
     "metadata": {},
     "output_type": "execute_result"
    },
    {
     "data": {
      "image/png": "[encoded data removed]",
      "text/plain": [
       "<Figure size 432x288 with 1 Axes>"
      ]
     },
     "metadata": {
      "needs_background": "light"
     },
     "output_type": "display_data"
    }
   ],
   "source": [
    "# Calculate its returns with pct_change()\n",
    "# Concatenate the PXD returns to the Basket returns\n",
    "# Display the correlation between PXD and the Basket\n",
    "df_PXD.pct_change().hist(bins=50)"
   ]
  },
  {
   "cell_type": "markdown",
   "metadata": {},
   "source": [
    "## Regression Analysis\n",
    "\n",
    "Regression is an econometric method that allows a user to attempt to see what variables drive another variable.  Regression analysis calculates a number of important values\n",
    "\n",
    "**Beta, Significance & P-Values**\n",
    "\n",
    "A **beta** is what a 1-unit increase in the specific variable does to the dependent variable.\n",
    "For example a .5 beta means that if a variable is increased by 1, the dependent variable would be expected to go up by 0.5. \n",
    "\n",
    "**Significance** measures the probability that a particular variable's value was a random occurrence.\n",
    "For example, a significance factor of 0.05 means there was a 5% chance that this was a random event, 0.01 means a 1% chance, and so on. \n",
    "\n",
    "A **p-value** is used to provide the smallest level of significance at which the null hypothesis would be rejected.\n",
    "\n",
    "Beta, Significance and p-values are important because they are indicators to users about what is significant.\n",
    "\n",
    "For example, we might expect that gold prices effect all stocks. However, when we control for the market (by using SPY) we notice that the reason gold is correlated with all these stocks is because it is also correlated with the market! This gives us better precision since we see which firms really get effected by gold versus which just get effected by the overall market environment.\n",
    "\n",
    "A very accurate regression analysis is performed using the statsmodels OLS function (ordinary least squares). The formula parameter sets the dependent variable and the matrix of factors. <br><br>\n",
    "> `PXD` **~** `SPY + Oil + Gold + NG`<br>\n",
    "\n",
    "In the above expression<br>\n",
    "> `PXD` is the dependent variable <br>\n",
    "> `SPY + Oil + Gold + NG` are the set of features in the model.\n",
    "\n",
    "\n",
    "https://www.statsmodels.org/stable/index.html"
   ]
  },
  {
   "cell_type": "code",
   "execution_count": 8,
   "metadata": {
    "tags": []
   },
   "outputs": [],
   "source": [
    "# Create a regression model with statsmodels\n",
    "# use statsmodels.formula.api (alias as sm)\n",
    "# statsmodels documentation is useful, we can use the formula:\n",
    "# \"PXD ~ SPY + Oil + Gold + NG\"\n",
    "# fit the model\n",
    "# Prouduce the regression report\n"
   ]
  },
  {
   "cell_type": "markdown",
   "metadata": {},
   "source": [
    "We can plot the price of PXD predicted by the model against the actual prices to get a sense of the model's accuracy"
   ]
  },
  {
   "cell_type": "code",
   "execution_count": 9,
   "metadata": {},
   "outputs": [],
   "source": [
    "%matplotlib inline\n",
    "\n",
    "# choose a date range so we can see more clearly what's happening\n",
    "date_range = \"March 2017\"\n",
    "\n",
    "fig, ax = plt.subplots(figsize=(12, 8))\n",
    "\n",
    "# plot the return for PXD and the model's prediction on the same axes for the date range\n",
    "ax.plot(df_returns.loc[date_range, 'PXD'], label=\"PXD\")\n",
    "ax.plot(result.fittedvalues.loc[date_range], \"r--\", label=\"Predicted\")\n",
    "\n",
    "\n",
    "legend = ax.legend(loc=\"best\")\n",
    "plt.xticks(rotation=45)\n",
    "\n",
    "plt.show()"
   ]
  },
  {
   "cell_type": "markdown",
   "metadata": {},
   "source": [
    "**Note the following**<br>\n",
    "1) 2 factors have a p-value  (**P>|t|**) < 0.05 : SPY and Oil<br>\n",
    "Given that PXD is an oil exploration company, it's daily returns follow very closely the returns of both the SP500 index and the price of Oil.\n",
    "\n",
    "2) The PXD beta for stock market returns is relatively high at 0.77, and Oil has a beta of 0.27. This means that for every 1% change in the price of oil, users can expect a 0.27% change in the price of the PXD stock. \n",
    "\n",
    "3) Another way of thinking of this is \n",
    "> PXD = `(0.772 X SPY) + (0.269 X Oil) + (0.046 X Gold) + (0.045 X NG)`\n",
    "\n",
    "We can turn then above statements into a function."
   ]
  },
  {
   "cell_type": "code",
   "execution_count": 10,
   "metadata": {
    "tags": []
   },
   "outputs": [],
   "source": [
    "# Create a regress function here that takes a ticker\n",
    "# and a DataFrame of the basket\n",
    "# The function should return a trained ols model\n"
   ]
  },
  {
   "cell_type": "markdown",
   "metadata": {},
   "source": [
    "## Extract Data from the report\n",
    "\n",
    "Use the `regress()` function to\n",
    "- display the report\n",
    "- display only the p-values\n",
    "- display only the p-values less than 0.05\n",
    "\n",
    "And most importantly, use the params attribute of the OLS report to display the `features` less than 0.05\n",
    "\n"
   ]
  },
  {
   "cell_type": "code",
   "execution_count": 11,
   "metadata": {
    "tags": []
   },
   "outputs": [],
   "source": [
    "# run the report\n",
    "# product the summary\n",
    "# display all p-values\n",
    "# display all p-values < 0.05\n",
    "# display the `features` less than 0.05\n"
   ]
  },
  {
   "cell_type": "markdown",
   "metadata": {},
   "source": [
    "## Re-write the function\n",
    "\n",
    "To display only those factors with a p-value less than some arbirtrary value"
   ]
  },
  {
   "cell_type": "code",
   "execution_count": 12,
   "metadata": {
    "tags": []
   },
   "outputs": [],
   "source": [
    "# Re-Factor the regress function, include a pval and return a filtered DataFrame\n",
    "# Execute the function\n",
    "# Display the report\n"
   ]
  },
  {
   "cell_type": "markdown",
   "metadata": {},
   "source": [
    "# Exercise"
   ]
  },
  {
   "cell_type": "markdown",
   "metadata": {},
   "source": [
    "## Perform this analysis for any abritrary stock\n",
    "\n",
    "Rather than importing a single stock data, we can easily import all stock data for all companies in the SP500 index. \n",
    "We will follow the same “pattern”:\n",
    "- Load a DataFrame that represents the basket.\n",
    "- Load a DataFrame of all SP500 stocks.\n",
    "- Calculate the daily returns and concatenate both DataFrames.\n",
    "- Calculate the Betas for ALL stocks when regressions are performed against the basket.\n",
    "- Save the results to a Spreadsheet.\n",
    "\n",
    "The first 3 steps are:"
   ]
  },
  {
   "cell_type": "code",
   "execution_count": 13,
   "metadata": {},
   "outputs": [],
   "source": [
    "# Load in df_Basket\n",
    "df_Basket = pd.read_excel('https://s3.eu-west-1.amazonaws.com/neueda.conygre.com/pydata/regression.xlsx',\n",
    "                          parse_dates=True,\n",
    "                          index_col='Date',\n",
    "                          sheet_name = 'Basket')\n",
    "\n",
    "# Load in the Stock Prices\n",
    "df_Stocks = pd.read_excel('https://s3.eu-west-1.amazonaws.com/neueda.conygre.com/pydata/regression.xlsx',\n",
    "                          parse_dates=True,\n",
    "                          index_col='Date',\n",
    "                           sheet_name = 'StockPrices')"
   ]
  },
  {
   "cell_type": "code",
   "execution_count": 14,
   "metadata": {
    "tags": []
   },
   "outputs": [],
   "source": [
    "# Caluclate the daily returns for the Basket and for the Stocks\n",
    "# Concatenate both DataFrames\n"
   ]
  },
  {
   "cell_type": "markdown",
   "metadata": {},
   "source": [
    "## Calculate Betas for ALL stocks with p-value < 0.05\n",
    "\n",
    "\n",
    "A very simple loop achieves this.<br>\n",
    "\n",
    "**Note**<br>\n",
    "1) the slice `f_returns.columns[:-4]` returns all BUT the last 4 columns as the last 4 columns are our basket.\n",
    "\n",
    "2) We are progressively concatenating the results of the regression into a single DataFrame containing all of the results.\n"
   ]
  },
  {
   "cell_type": "code",
   "execution_count": null,
   "metadata": {
    "tags": []
   },
   "outputs": [],
   "source": [
    "# Create an empy dataframe\n",
    "# Loop over every returns (skip the last 4 columns) and calculate the betas from a regression \n",
    "# Dislpay the shape\n"
   ]
  },
  {
   "cell_type": "markdown",
   "metadata": {},
   "source": [
    "## Export the DataFrame to a Spreadsheet\n"
   ]
  },
  {
   "cell_type": "code",
   "execution_count": null,
   "metadata": {
    "tags": []
   },
   "outputs": [],
   "source": [
    "# Create a writer\n",
    "# Convert the DataFrame to an XlsxWriter Excel object.\n",
    "# In this case we'll put each of the FANG columns in a separate sheet.\n",
    "# Close the Pandas Excel writer and output the Excel file.\n"
   ]
  }
 ],
 "metadata": {
  "kernelspec": {
   "display_name": "Python 3 (ipykernel)",
   "language": "python",
   "name": "python3"
  },
  "language_info": {
   "codemirror_mode": {
    "name": "ipython",
    "version": 3
   },
   "file_extension": ".py",
   "mimetype": "text/x-python",
   "name": "python",
   "nbconvert_exporter": "python",
   "pygments_lexer": "ipython3",
   "version": "3.9.5"
  }
 },
 "nbformat": 4,
 "nbformat_minor": 4
}
